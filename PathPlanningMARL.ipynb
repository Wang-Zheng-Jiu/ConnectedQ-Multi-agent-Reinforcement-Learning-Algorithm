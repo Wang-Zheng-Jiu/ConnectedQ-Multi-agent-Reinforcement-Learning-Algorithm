{
 "cells": [
  {
   "cell_type": "markdown",
   "metadata": {},
   "source": [
    "# MARL: Path planning for Swarm Robotics\n",
    "\n",
    "# lnitializing Field \n"
   ]
  },
  {
   "cell_type": "code",
   "execution_count": null,
   "metadata": {},
   "outputs": [],
   "source": [
    "import torch\n",
    "import numpy as np\n",
    "import matplotlib.pyplot as plt\n",
    "import pandas as pd\n",
    "from IPython.display import HTML\n",
    "from itertools import permutations\n",
    "import random\n",
    "print(\"GPU used: \", torch.cuda.get_device_name(0))"
   ]
  },
  {
   "cell_type": "markdown",
   "metadata": {},
   "source": [
    "# Specifications"
   ]
  },
  {
   "cell_type": "code",
   "execution_count": null,
   "metadata": {},
   "outputs": [],
   "source": [
    "E = 5 # Number of Episodes\n",
    "R = 5 # Field of View is of radius units\n",
    "L = 250 # Length of the total Area \n",
    "B = 200 # Breadth of the total Area\n",
    "N = 2 # Number of Bots\n",
    "M = 4 # Number of points\n",
    "Di = (L**2 + B**2)**0.5 # Diagonal Length\n",
    "G = 0.7 # Gamma=Learning Rate"
   ]
  },
  {
   "cell_type": "markdown",
   "metadata": {},
   "source": [
    "# Initializing Locations"
   ]
  },
  {
   "cell_type": "code",
   "execution_count": null,
   "metadata": {},
   "outputs": [],
   "source": [
    "def spawn(N,L,B):\n",
    "    locs = {'x':torch.randn(N),'y':torch.randn(N)}\n",
    "    \n",
    "    for t in locs['x']:\n",
    "        if(t<0):\n",
    "            t*=-1\n",
    "        if(t<1):\n",
    "            t*=L\n",
    "        else:\n",
    "            t*=10\n",
    "\n",
    "    for t in locs['y']:\n",
    "        if(t<0):\n",
    "            t*=-1\n",
    "        if(t<1):\n",
    "            t*=B\n",
    "        else:\n",
    "            t*=10\n",
    "    locs = pd.DataFrame(locs)\n",
    "    return locs"
   ]
  },
  {
   "cell_type": "markdown",
   "metadata": {},
   "source": [
    "# Function to Display Map"
   ]
  },
  {
   "cell_type": "code",
   "execution_count": null,
   "metadata": {},
   "outputs": [],
   "source": [
    "def ShowMap(locBots,locDests,status):\n",
    "    print(\"______________________State \",status,\"______________________\")\n",
    "    beacons()\n",
    "    plt.scatter(locBots['x'],locBots['y'],c = 'red')\n",
    "    plt.scatter(locDests['x'],locDests['y'],c = 'green')\n",
    "    plt.title('Field Simulation')\n",
    "    plt.xlabel('Length')\n",
    "    plt.ylabel('Breadth')\n",
    "    \n",
    "def beacons():\n",
    "    plt.scatter(np.array([0,0,250,250]),np.array([0,200,0,200]),c = 'black')"
   ]
  },
  {
   "cell_type": "code",
   "execution_count": null,
   "metadata": {},
   "outputs": [],
   "source": [
    "Bots = spawn(N,L,B)\n",
    "Dests = spawn(M,L,B) \n",
    "ShowMap(Bots,Dests,0)"
   ]
  },
  {
   "cell_type": "markdown",
   "metadata": {},
   "source": [
    "# Location of Bots"
   ]
  },
  {
   "cell_type": "code",
   "execution_count": null,
   "metadata": {},
   "outputs": [],
   "source": [
    "Bots.head()"
   ]
  },
  {
   "cell_type": "markdown",
   "metadata": {},
   "source": [
    "# Location of Destinations "
   ]
  },
  {
   "cell_type": "code",
   "execution_count": null,
   "metadata": {},
   "outputs": [],
   "source": [
    "Dests.head()"
   ]
  },
  {
   "cell_type": "markdown",
   "metadata": {},
   "source": [
    "# Function to Limit Field of View"
   ]
  },
  {
   "cell_type": "code",
   "execution_count": null,
   "metadata": {},
   "outputs": [],
   "source": [
    "def inrange(r,j,s=1):\n",
    "    e = []\n",
    "    for i in range(len(Dests.values)):\n",
    "        if(dist(Dests.values[i][0],Dests.values[i][1],Bots.values[j][0],Bots.values[j][1]))<=r:\n",
    "            e.append(i)\n",
    "    \n",
    "    if(s==1):\n",
    "        beacons()\n",
    "        for k in e:\n",
    "            plt.scatter(Dests.values[k][0],Dests.values[k][1],c = 'blue')\n",
    "\n",
    "        plt.scatter(Bots.values[j][0],Bots.values[j][1], c = 'red')\n",
    "        plt.title('Visible Destinations for Bot '+ str(j))\n",
    "        plt.xlabel('Length')\n",
    "        plt.ylabel('Breadth')\n",
    "\n",
    "    return e \n",
    "\n",
    "def dist(x1,y1,x2,y2):\n",
    "    return ((x2-x1)**2 + (y2-y1)**2)**0.5\n",
    "\n",
    "def distance(a,b):\n",
    "    return(dist(Dests.iloc[a]['x'],Dests.iloc[a]['y'],Dests.iloc[b]['x'],Dests.iloc[b]['y']))"
   ]
  },
  {
   "cell_type": "markdown",
   "metadata": {},
   "source": [
    "# Penalty Function"
   ]
  },
  {
   "cell_type": "code",
   "execution_count": null,
   "metadata": {},
   "outputs": [],
   "source": [
    "def penalty(a,b,Di):\n",
    "    s = 0\n",
    "    for i in range(len(a)):\n",
    "        s+=distance(a[i],b[i])\n",
    "    return s/(Di*len(a))"
   ]
  },
  {
   "cell_type": "markdown",
   "metadata": {},
   "source": [
    "# Covered Points"
   ]
  },
  {
   "cell_type": "code",
   "execution_count": null,
   "metadata": {},
   "outputs": [],
   "source": [
    "Covered = set()"
   ]
  },
  {
   "cell_type": "markdown",
   "metadata": {},
   "source": [
    "# State Space"
   ]
  },
  {
   "cell_type": "code",
   "execution_count": null,
   "metadata": {},
   "outputs": [],
   "source": [
    "def StateSpace(M,N):\n",
    "    return(list(permutations(np.arange(M),N)))    "
   ]
  },
  {
   "cell_type": "code",
   "execution_count": null,
   "metadata": {},
   "outputs": [],
   "source": [
    "len(StateSpace(M,N))"
   ]
  },
  {
   "cell_type": "markdown",
   "metadata": {},
   "source": [
    "# Play Episode"
   ]
  },
  {
   "cell_type": "code",
   "execution_count": null,
   "metadata": {},
   "outputs": [],
   "source": [
    "def PlayEpi(x):\n",
    "    ShowMap()\n",
    "    "
   ]
  },
  {
   "cell_type": "code",
   "execution_count": null,
   "metadata": {},
   "outputs": [],
   "source": [
    "def ShowMap(Bot,Dest,status):\n",
    "    print(\"______________________State \",status,\"______________________\")\n",
    "    beacons()\n",
    "    lbots = [locBots.iloc(i) for i in Bot]\n",
    "    ldest = [locBots.iloc(i) for i in Bot]\n",
    "    \n",
    "    plt.scatter(locBots['x'],locBots['y'],c = 'red')\n",
    "    plt.scatter(locDests['x'],locDests['y'],c = 'green')\n",
    "    plt.title('Field Simulation')\n",
    "    plt.xlabel('Length')\n",
    "    plt.ylabel('Breadth')"
   ]
  },
  {
   "cell_type": "code",
   "execution_count": null,
   "metadata": {},
   "outputs": [],
   "source": []
  },
  {
   "cell_type": "code",
   "execution_count": null,
   "metadata": {},
   "outputs": [],
   "source": [
    "Q = torch.zeros(len(StateSpace(M,N)),len(StateSpace(M,N)))"
   ]
  },
  {
   "cell_type": "code",
   "execution_count": null,
   "metadata": {},
   "outputs": [],
   "source": [
    "Q"
   ]
  },
  {
   "cell_type": "markdown",
   "metadata": {},
   "source": [
    "# Training"
   ]
  },
  {
   "cell_type": "code",
   "execution_count": null,
   "metadata": {},
   "outputs": [],
   "source": [
    "scores = []\n",
    "policies = []"
   ]
  },
  {
   "cell_type": "code",
   "execution_count": null,
   "metadata": {},
   "outputs": [],
   "source": [
    "AllPoints = set([x for x in range(M)])\n",
    "AllPoints"
   ]
  },
  {
   "cell_type": "code",
   "execution_count": null,
   "metadata": {},
   "outputs": [],
   "source": [
    "def NextState(visited):\n",
    "    \n",
    "    visited = set(visited)\n",
    "    x = random.randint(0,len(StateSpace(M,N))-1)\n",
    "    x = StateSpace(M,N)[x]\n",
    "    if(set(x).issubset(visited)):\n",
    "        return NextState(visited)\n",
    "    else:\n",
    "        return x"
   ]
  },
  {
   "cell_type": "code",
   "execution_count": null,
   "metadata": {},
   "outputs": [],
   "source": [
    "for i in range(E):\n",
    "    \n",
    "    visited = set()\n",
    "    initial_state_index = random.randint(0,len(StateSpace(M,N))-1)\n",
    "    ep_length = 0\n",
    "    score  = 0\n",
    "    \n",
    "    while(AllPoints!=visited):\n",
    "        \n",
    "        initial_state = StateSpace(M,N)[initial_state_index]\n",
    "        visited = visited.union(set(initial_state))\n",
    "        next_state = NextState(visited)\n",
    "        initial_state = next_state\n",
    "        \n",
    "        ep_length+=1\n",
    "        \n",
    "    print('Episode Length = ', ep_length)\n",
    "    print(score)\n",
    "    scores.append(score)"
   ]
  },
  {
   "cell_type": "markdown",
   "metadata": {},
   "source": [
    "# Policy Making"
   ]
  },
  {
   "cell_type": "code",
   "execution_count": null,
   "metadata": {},
   "outputs": [],
   "source": [
    "def NextStateByQ(Initial_State):\n",
    "    s = 0\n",
    "    for i in range ( length ( Q[Initial_State] ) ):\n",
    "        if(Q[Initial_State][i]<Q[Initial_State][m]):\n",
    "            s = i\n",
    "    return StateSpace[s]"
   ]
  },
  {
   "cell_type": "code",
   "execution_count": null,
   "metadata": {},
   "outputs": [],
   "source": [
    "Initial_State = < As given in the input >\n",
    "current_state = Initial_State \n",
    "Visited = {} # Set of Visited Points \n",
    "Visited = Union( Visited, set( current_state ) ) \n",
    "policy = [] # Sequence of States forming the policy for the considered episode\n",
    "EpisodePenalty = 0 "
   ]
  },
  {
   "cell_type": "code",
   "execution_count": null,
   "metadata": {},
   "outputs": [],
   "source": [
    "while( AllPoints.issuperset(Visited) ): \n",
    "    next_state = NextStatebyQ( Visited ) \n",
    "    policy.append(next_state) \n",
    "    Visited = Union( Visited , set(next_state) ) \n",
    "    EpisodePenalty = EpisodePenalty + Penalty(current_state, next_state)\n",
    "    Q[current_state][next_state] = Penalty(current_state, next_state) + G*max(Q[next_state]) current_state = next_state scores.append(EpisodePenalty) policies.append(policy)\n"
   ]
  },
  {
   "cell_type": "code",
   "execution_count": null,
   "metadata": {},
   "outputs": [],
   "source": [
    "policy"
   ]
  },
  {
   "cell_type": "code",
   "execution_count": null,
   "metadata": {},
   "outputs": [],
   "source": []
  },
  {
   "cell_type": "code",
   "execution_count": null,
   "metadata": {},
   "outputs": [],
   "source": []
  },
  {
   "cell_type": "code",
   "execution_count": null,
   "metadata": {},
   "outputs": [],
   "source": []
  },
  {
   "cell_type": "code",
   "execution_count": null,
   "metadata": {},
   "outputs": [],
   "source": []
  },
  {
   "cell_type": "code",
   "execution_count": null,
   "metadata": {},
   "outputs": [],
   "source": []
  },
  {
   "cell_type": "code",
   "execution_count": null,
   "metadata": {},
   "outputs": [],
   "source": []
  },
  {
   "cell_type": "code",
   "execution_count": null,
   "metadata": {},
   "outputs": [],
   "source": []
  },
  {
   "cell_type": "code",
   "execution_count": null,
   "metadata": {},
   "outputs": [],
   "source": []
  },
  {
   "cell_type": "code",
   "execution_count": null,
   "metadata": {},
   "outputs": [],
   "source": []
  },
  {
   "cell_type": "code",
   "execution_count": null,
   "metadata": {},
   "outputs": [],
   "source": []
  },
  {
   "cell_type": "code",
   "execution_count": null,
   "metadata": {},
   "outputs": [],
   "source": []
  },
  {
   "cell_type": "code",
   "execution_count": null,
   "metadata": {},
   "outputs": [],
   "source": []
  },
  {
   "cell_type": "code",
   "execution_count": null,
   "metadata": {},
   "outputs": [],
   "source": []
  },
  {
   "cell_type": "code",
   "execution_count": null,
   "metadata": {},
   "outputs": [],
   "source": [
    "initial_state_index = random.randint(0,len(StateSpace(M,N))-1)\n",
    "initial_state = StateSpace(M,N)[initial_state_index]\n",
    "policy = []\n",
    "visited = []\n",
    "AllPoints = [x for x in range(M)]\n",
    "\n",
    "for k in range(2):\n",
    "    \n",
    "    for i in initial_state:\n",
    "        visited.append(i)\n",
    "    \n",
    "    policy.append(initial_state)\n",
    "    next_state = NextState(visited)\n",
    "    initial_state = next_state   \n",
    "    "
   ]
  },
  {
   "cell_type": "code",
   "execution_count": null,
   "metadata": {},
   "outputs": [],
   "source": []
  },
  {
   "cell_type": "code",
   "execution_count": null,
   "metadata": {},
   "outputs": [],
   "source": []
  },
  {
   "cell_type": "code",
   "execution_count": null,
   "metadata": {},
   "outputs": [],
   "source": []
  },
  {
   "cell_type": "code",
   "execution_count": null,
   "metadata": {},
   "outputs": [],
   "source": []
  },
  {
   "cell_type": "code",
   "execution_count": null,
   "metadata": {},
   "outputs": [],
   "source": []
  },
  {
   "cell_type": "code",
   "execution_count": null,
   "metadata": {},
   "outputs": [],
   "source": []
  },
  {
   "cell_type": "code",
   "execution_count": null,
   "metadata": {},
   "outputs": [],
   "source": []
  },
  {
   "cell_type": "code",
   "execution_count": null,
   "metadata": {},
   "outputs": [],
   "source": []
  },
  {
   "cell_type": "code",
   "execution_count": null,
   "metadata": {},
   "outputs": [],
   "source": []
  },
  {
   "cell_type": "code",
   "execution_count": null,
   "metadata": {},
   "outputs": [],
   "source": []
  },
  {
   "cell_type": "code",
   "execution_count": null,
   "metadata": {},
   "outputs": [],
   "source": []
  },
  {
   "cell_type": "code",
   "execution_count": null,
   "metadata": {},
   "outputs": [],
   "source": []
  },
  {
   "cell_type": "code",
   "execution_count": null,
   "metadata": {},
   "outputs": [],
   "source": []
  },
  {
   "cell_type": "code",
   "execution_count": null,
   "metadata": {},
   "outputs": [],
   "source": []
  },
  {
   "cell_type": "code",
   "execution_count": null,
   "metadata": {},
   "outputs": [],
   "source": []
  },
  {
   "cell_type": "code",
   "execution_count": null,
   "metadata": {},
   "outputs": [],
   "source": []
  },
  {
   "cell_type": "code",
   "execution_count": null,
   "metadata": {},
   "outputs": [],
   "source": []
  },
  {
   "cell_type": "code",
   "execution_count": null,
   "metadata": {},
   "outputs": [],
   "source": []
  },
  {
   "cell_type": "code",
   "execution_count": null,
   "metadata": {},
   "outputs": [],
   "source": []
  }
 ],
 "metadata": {
  "kernelspec": {
   "display_name": "Python 3",
   "language": "python",
   "name": "python3"
  },
  "language_info": {
   "codemirror_mode": {
    "name": "ipython",
    "version": 3
   },
   "file_extension": ".py",
   "mimetype": "text/x-python",
   "name": "python",
   "nbconvert_exporter": "python",
   "pygments_lexer": "ipython3",
   "version": "3.7.0"
  }
 },
 "nbformat": 4,
 "nbformat_minor": 2
}
